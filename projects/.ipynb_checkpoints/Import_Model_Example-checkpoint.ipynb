{
 "cells": [
  {
   "cell_type": "code",
   "execution_count": null,
   "id": "5235b6c1-daae-4a11-99ac-0a8fd42f3fa3",
   "metadata": {},
   "outputs": [],
   "source": [
    "import os\n",
    "from qonnx.core.modelwrapper import ModelWrapper\n",
    "from qonnx.core.datatype import DataType\n",
    "from qonnx.transformation.general import GiveReadableTensorNames, GiveUniqueNodeNames, RemoveStaticGraphInputs\n",
    "from qonnx.transformation.infer_shapes import InferShapes\n",
    "from qonnx.transformation.infer_datatypes import InferDataTypes\n",
    "from qonnx.transformation.fold_constants import FoldConstants\n",
    "from finn.util.visualization import showInNetron\n"
   ]
  },
  {
   "cell_type": "code",
   "execution_count": null,
   "id": "3aa9321d-d162-4d0d-abb3-56fd7f871c45",
   "metadata": {},
   "outputs": [],
   "source": [
    "model_dir = os.environ['FINN_ROOT'] + '/notebooks/projects/'\n",
    "ready_model_filename = model_dir + '/model.onnx'\n",
    "model_for_sim = ModelWrapper(ready_model_filename)"
   ]
  },
  {
   "cell_type": "code",
   "execution_count": null,
   "id": "73ed3703-d93b-4125-b69b-8784ae8a4fe9",
   "metadata": {},
   "outputs": [],
   "source": [
    "print(dir(model_for_sim))\n",
    "\n",
    "finnonnx_in_tensor_name  = model_for_sim.graph.input[0].name\n",
    "finnonnx_out_tensor_name = model_for_sim.graph.output[0].name\n",
    "\n",
    "print(f'Input Tensor name: {finnonnx_in_tensor_name}')\n",
    "print(f'Output Tensor name: {finnonnx_out_tensor_name}')\n",
    "\n",
    "finnonnx_model_in_shape  = model_for_sim.get_tensor_shape(finnonnx_in_tensor_name)\n",
    "finnonnx_model_out_shape = model_for_sim.get_tensor_shape(finnonnx_out_tensor_name)\n",
    "\n",
    "print(f'Input Tensor shape: {finnonnx_model_in_shape}')\n",
    "print(f'Output Tensor shape: {finnonnx_model_out_shape}')\n",
    "\n",
    "finnonnx_model_in_dt  = model_for_sim.get_tensor_datatype(finnonnx_in_tensor_name)\n",
    "finnonnx_model_out_dt = model_for_sim.get_tensor_datatype(finnonnx_out_tensor_name)\n",
    "\n",
    "print(f'Input Tensor datatype: {str(finnonnx_model_in_dt.name)}')\n",
    "print(f'Output Tensor datatype: {str(finnonnx_model_out_dt.name)}')\n",
    "\n",
    "print('List of node operator types in the graph: ')\n",
    "print([x.op_type for x in model_for_sim.graph.node])\n"
   ]
  },
  {
   "cell_type": "code",
   "execution_count": null,
   "id": "bf11da25-e1cb-42ea-b99f-dde083b7d4b7",
   "metadata": {},
   "outputs": [],
   "source": [
    "model_for_sim = model_for_sim.transform(InferShapes())\n",
    "model_for_sim = model_for_sim.transform(FoldConstants())\n",
    "model_for_sim = model_for_sim.transform(GiveUniqueNodeNames())\n",
    "model_for_sim = model_for_sim.transform(GiveReadableTensorNames())\n",
    "model_for_sim = model_for_sim.transform(InferDataTypes())\n",
    "model_for_sim = model_for_sim.transform(RemoveStaticGraphInputs())\n",
    "\n",
    "verify_model_name = model_dir + '/verify.onnx'\n",
    "model_for_sim.save(verify_model_name)"
   ]
  }
 ],
 "metadata": {
  "kernelspec": {
   "display_name": "Python 3 (ipykernel)",
   "language": "python",
   "name": "python3"
  },
  "language_info": {
   "codemirror_mode": {
    "name": "ipython",
    "version": 3
   },
   "file_extension": ".py",
   "mimetype": "text/x-python",
   "name": "python",
   "nbconvert_exporter": "python",
   "pygments_lexer": "ipython3",
   "version": "3.10.12"
  }
 },
 "nbformat": 4,
 "nbformat_minor": 5
}
