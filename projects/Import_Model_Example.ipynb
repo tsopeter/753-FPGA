{
 "cells": [
  {
   "cell_type": "code",
   "execution_count": 8,
   "id": "5235b6c1-daae-4a11-99ac-0a8fd42f3fa3",
   "metadata": {},
   "outputs": [],
   "source": [
    "import os\n",
    "from qonnx.core.modelwrapper import ModelWrapper\n",
    "from qonnx.core.datatype import DataType\n",
    "from qonnx.transformation.general import GiveReadableTensorNames, GiveUniqueNodeNames, RemoveStaticGraphInputs\n",
    "from qonnx.transformation.infer_shapes import InferShapes\n",
    "from qonnx.transformation.infer_datatypes import InferDataTypes\n",
    "from qonnx.transformation.fold_constants import FoldConstants\n",
    "from finn.util.visualization import showInNetron\n",
    "import numpy as np\n"
   ]
  },
  {
   "cell_type": "code",
   "execution_count": 2,
   "id": "3aa9321d-d162-4d0d-abb3-56fd7f871c45",
   "metadata": {},
   "outputs": [],
   "source": [
    "model_dir = os.environ['FINN_ROOT'] + '/notebooks/projects/'\n",
    "ready_model_filename = model_dir + '/model.onnx'\n",
    "model_for_sim = ModelWrapper(ready_model_filename)"
   ]
  },
  {
   "cell_type": "markdown",
   "id": "80836e97-cd50-459a-8ee8-1ba539f64ce9",
   "metadata": {},
   "source": [
    "# 1. Expose model into FINN"
   ]
  },
  {
   "cell_type": "code",
   "execution_count": 3,
   "id": "73ed3703-d93b-4125-b69b-8784ae8a4fe9",
   "metadata": {},
   "outputs": [
    {
     "name": "stdout",
     "output_type": "stream",
     "text": [
      "['__class__', '__delattr__', '__dict__', '__dir__', '__doc__', '__eq__', '__format__', '__ge__', '__getattribute__', '__gt__', '__hash__', '__init__', '__init_subclass__', '__le__', '__lt__', '__module__', '__ne__', '__new__', '__reduce__', '__reduce_ex__', '__repr__', '__setattr__', '__sizeof__', '__str__', '__subclasshook__', '__weakref__', '_model_proto', 'analysis', 'check_all_tensor_shapes_specified', 'check_compatibility', 'cleanup', 'find_consumer', 'find_consumers', 'find_direct_predecessors', 'find_direct_successors', 'find_producer', 'find_upstream', 'fix_float64', 'get_all_tensor_names', 'get_finn_nodes', 'get_initializer', 'get_metadata_prop', 'get_node_from_name', 'get_node_index', 'get_nodes_by_op_type', 'get_non_finn_nodes', 'get_tensor_datatype', 'get_tensor_fanout', 'get_tensor_layout', 'get_tensor_shape', 'get_tensor_sparsity', 'get_tensor_valueinfo', 'graph', 'is_fork_node', 'is_join_node', 'make_empty_exec_context', 'make_new_valueinfo_name', 'model', 'rename_tensor', 'save', 'set_initializer', 'set_metadata_prop', 'set_tensor_datatype', 'set_tensor_layout', 'set_tensor_shape', 'set_tensor_sparsity', 'temporary_fix_oldstyle_domain', 'transform']\n",
      "Input Tensor name: global_in\n",
      "Output Tensor name: global_out\n",
      "Input Tensor shape: [1, 1, 64, 64]\n",
      "Output Tensor shape: [1, 1]\n",
      "Input Tensor datatype: UINT8\n",
      "Output Tensor datatype: FLOAT32\n",
      "List of node operator types in the graph: \n",
      "['Conv', 'Mul', 'Add', 'MultiThreshold', 'Mul', 'Conv', 'Mul', 'Add', 'MultiThreshold', 'Mul', 'Conv', 'Mul', 'Add', 'MultiThreshold', 'Mul', 'Conv', 'Mul', 'Add', 'MultiThreshold', 'Mul', 'Conv', 'Mul', 'Add', 'MultiThreshold', 'Mul', 'Flatten', 'MatMul', 'Mul', 'Add', 'MultiThreshold', 'Mul', 'MatMul', 'Mul', 'Add', 'MultiThreshold', 'Mul', 'MatMul', 'Mul', 'Add', 'MultiThreshold', 'Mul', 'MatMul', 'Mul', 'Add']\n"
     ]
    }
   ],
   "source": [
    "print(dir(model_for_sim))\n",
    "\n",
    "finnonnx_in_tensor_name  = model_for_sim.graph.input[0].name\n",
    "finnonnx_out_tensor_name = model_for_sim.graph.output[0].name\n",
    "\n",
    "print(f'Input Tensor name: {finnonnx_in_tensor_name}')\n",
    "print(f'Output Tensor name: {finnonnx_out_tensor_name}')\n",
    "\n",
    "finnonnx_model_in_shape  = model_for_sim.get_tensor_shape(finnonnx_in_tensor_name)\n",
    "finnonnx_model_out_shape = model_for_sim.get_tensor_shape(finnonnx_out_tensor_name)\n",
    "\n",
    "print(f'Input Tensor shape: {finnonnx_model_in_shape}')\n",
    "print(f'Output Tensor shape: {finnonnx_model_out_shape}')\n",
    "\n",
    "finnonnx_model_in_dt  = model_for_sim.get_tensor_datatype(finnonnx_in_tensor_name)\n",
    "finnonnx_model_out_dt = model_for_sim.get_tensor_datatype(finnonnx_out_tensor_name)\n",
    "\n",
    "print(f'Input Tensor datatype: {str(finnonnx_model_in_dt.name)}')\n",
    "print(f'Output Tensor datatype: {str(finnonnx_model_out_dt.name)}')\n",
    "\n",
    "print('List of node operator types in the graph: ')\n",
    "print([x.op_type for x in model_for_sim.graph.node])\n"
   ]
  },
  {
   "cell_type": "markdown",
   "id": "afe756d0-f28d-4ac4-ae54-7202eb6e6d02",
   "metadata": {},
   "source": [
    "# 2. Tidy up Network transformations"
   ]
  },
  {
   "cell_type": "code",
   "execution_count": 6,
   "id": "bf11da25-e1cb-42ea-b99f-dde083b7d4b7",
   "metadata": {},
   "outputs": [],
   "source": [
    "model_for_sim = model_for_sim.transform(InferShapes())\n",
    "model_for_sim = model_for_sim.transform(FoldConstants())\n",
    "model_for_sim = model_for_sim.transform(GiveUniqueNodeNames())\n",
    "model_for_sim = model_for_sim.transform(GiveReadableTensorNames())\n",
    "model_for_sim = model_for_sim.transform(InferDataTypes())\n",
    "model_for_sim = model_for_sim.transform(RemoveStaticGraphInputs())\n",
    "\n",
    "verify_model_name = model_dir + '/verify.onnx'\n",
    "model_for_sim.save(verify_model_name)"
   ]
  },
  {
   "cell_type": "code",
   "execution_count": 7,
   "id": "191690e8-76e7-4b01-ab10-42080ec46731",
   "metadata": {},
   "outputs": [
    {
     "name": "stdout",
     "output_type": "stream",
     "text": [
      "Serving '/home/petertso/finn/notebooks/projects//verify.onnx' at http://0.0.0.0:8081\n"
     ]
    },
    {
     "data": {
      "text/html": [
       "\n",
       "        <iframe\n",
       "            width=\"100%\"\n",
       "            height=\"400\"\n",
       "            src=\"http://localhost:8081/\"\n",
       "            frameborder=\"0\"\n",
       "            allowfullscreen\n",
       "            \n",
       "        ></iframe>\n",
       "        "
      ],
      "text/plain": [
       "<IPython.lib.display.IFrame at 0x7f0af58f2d40>"
      ]
     },
     "execution_count": 7,
     "metadata": {},
     "output_type": "execute_result"
    }
   ],
   "source": [
    "showInNetron(verify_model_name)"
   ]
  },
  {
   "cell_type": "code",
   "execution_count": null,
   "id": "404aa5c8-46cd-47af-8252-08ea36b5acc2",
   "metadata": {},
   "outputs": [],
   "source": []
  }
 ],
 "metadata": {
  "kernelspec": {
   "display_name": "Python 3 (ipykernel)",
   "language": "python",
   "name": "python3"
  },
  "language_info": {
   "codemirror_mode": {
    "name": "ipython",
    "version": 3
   },
   "file_extension": ".py",
   "mimetype": "text/x-python",
   "name": "python",
   "nbconvert_exporter": "python",
   "pygments_lexer": "ipython3",
   "version": "3.10.12"
  }
 },
 "nbformat": 4,
 "nbformat_minor": 5
}
