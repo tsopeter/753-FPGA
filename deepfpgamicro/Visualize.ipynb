{
 "cells": [
  {
   "cell_type": "code",
   "execution_count": 1,
   "id": "e9ec4f65",
   "metadata": {},
   "outputs": [
    {
     "name": "stderr",
     "output_type": "stream",
     "text": [
      "2025-05-02 23:10:57.851390: I tensorflow/core/util/port.cc:110] oneDNN custom operations are on. You may see slightly different numerical results due to floating-point round-off errors from different computation orders. To turn them off, set the environment variable `TF_ENABLE_ONEDNN_OPTS=0`.\n",
      "2025-05-02 23:10:57.852643: I tensorflow/tsl/cuda/cudart_stub.cc:28] Could not find cuda drivers on your machine, GPU will not be used.\n",
      "2025-05-02 23:10:57.876903: I tensorflow/tsl/cuda/cudart_stub.cc:28] Could not find cuda drivers on your machine, GPU will not be used.\n",
      "2025-05-02 23:10:57.877508: I tensorflow/core/platform/cpu_feature_guard.cc:182] This TensorFlow binary is optimized to use available CPU instructions in performance-critical operations.\n",
      "To enable the following instructions: AVX2 AVX_VNNI FMA, in other operations, rebuild TensorFlow with the appropriate compiler flags.\n",
      "2025-05-02 23:10:58.226795: W tensorflow/compiler/tf2tensorrt/utils/py_utils.cc:38] TF-TRT Warning: Could not find TensorRT\n"
     ]
    }
   ],
   "source": [
    "import pandas as pd\n",
    "from util import find_best_model_across_folders\n",
    "import matplotlib.pyplot as plt"
   ]
  },
  {
   "cell_type": "code",
   "execution_count": 5,
   "id": "eabe5b31",
   "metadata": {},
   "outputs": [
    {
     "name": "stdout",
     "output_type": "stream",
     "text": [
      "Best Model: 2-1101-000-0.1-100-30-50-70.h5\n",
      "Location: models/deeppicar-stats/models/1101-000_64x64x1_0.1\n",
      "Clock: 100-30-50-70\n",
      "MSE Loss: 0.036841\n",
      "Accuracy: 0.85\n"
     ]
    }
   ],
   "source": [
    "best = find_best_model_across_folders(\"models/deeppicar-stats/models\")\n",
    "if best:\n",
    "    print(f\"Best Model: {best['model_file']}\")\n",
    "    print(f\"Location: {best['folder']}\")\n",
    "    print(f\"Clock: {best['clock']}\")\n",
    "    print(f\"MSE Loss: {best['mse']:.6f}\")\n",
    "    print(f\"Accuracy: {best['accuracy']:.2f}\")\n",
    "else:\n",
    "    print(\"No valid best_accuracy.txt files found.\")"
   ]
  }
 ],
 "metadata": {
  "kernelspec": {
   "display_name": "Python 3",
   "language": "python",
   "name": "python3"
  },
  "language_info": {
   "codemirror_mode": {
    "name": "ipython",
    "version": 3
   },
   "file_extension": ".py",
   "mimetype": "text/x-python",
   "name": "python",
   "nbconvert_exporter": "python",
   "pygments_lexer": "ipython3",
   "version": "3.10.12"
  }
 },
 "nbformat": 4,
 "nbformat_minor": 5
}
