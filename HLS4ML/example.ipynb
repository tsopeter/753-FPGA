{
 "cells": [
  {
   "cell_type": "code",
   "execution_count": 2,
   "id": "2d4a2a66",
   "metadata": {},
   "outputs": [],
   "source": [
    "import tensorflow as tf\n",
    "import tensorflow_model_optimization as tfmot\n",
    "from tensorflow.keras import layers\n",
    "\n",
    "def build_quantized_pilotnet(input_shape=(64, 64, 1), num_outputs=1):\n",
    "    # Input: float32 (training), simulate uint8 with QuantizeLayer\n",
    "    inputs = tf.keras.Input(shape=input_shape, dtype=tf.float32, name='input_1')\n",
    "\n",
    "    # Insert QuantizeLayer to simulate uint8 input\n",
    "    x = tfmot.quantization.keras.QuantizeLayer()(inputs)\n",
    "\n",
    "    # Adjusted PilotNet architecture for (64, 64, 1)\n",
    "    x = layers.Conv2D(24, (5, 5), strides=(2, 2), activation='relu', padding='valid')(x)  # -> (30, 30, 24)\n",
    "    x = layers.Conv2D(36, (5, 5), strides=(2, 2), activation='relu', padding='valid')(x)  # -> (13, 13, 36)\n",
    "    x = layers.Conv2D(48, (5, 5), strides=(2, 2), activation='relu', padding='valid')(x)  # -> (5, 5, 48)\n",
    "    x = layers.Conv2D(64, (3, 3), strides=(1, 1), activation='relu', padding='valid')(x)  # -> (3, 3, 64)\n",
    "    x = layers.Conv2D(64, (3, 3), strides=(1, 1), activation='relu', padding='valid')(x)  # -> (1, 1, 64)\n",
    "\n",
    "    x = layers.Flatten()(x)  # -> (64,)\n",
    "\n",
    "    # Fully connected layers\n",
    "    x = layers.Dense(100, activation='relu')(x)\n",
    "    x = layers.Dense(50, activation='relu')(x)\n",
    "    x = layers.Dense(10, activation='relu')(x)\n",
    "\n",
    "    # Output layer (no activation, for regression output)\n",
    "    outputs = layers.Dense(num_outputs, name='output')(x)\n",
    "\n",
    "    # Create the base model\n",
    "    base_model = tf.keras.Model(inputs=inputs, outputs=outputs)\n",
    "\n",
    "    # Apply quantization-aware training\n",
    "    quantized_model = tfmot.quantization.keras.quantize_model(base_model)\n",
    "\n",
    "    return quantized_model"
   ]
  }
 ],
 "metadata": {
  "kernelspec": {
   "display_name": "Python 3",
   "language": "python",
   "name": "python3"
  },
  "language_info": {
   "codemirror_mode": {
    "name": "ipython",
    "version": 3
   },
   "file_extension": ".py",
   "mimetype": "text/x-python",
   "name": "python",
   "nbconvert_exporter": "python",
   "pygments_lexer": "ipython3",
   "version": "3.10.12"
  }
 },
 "nbformat": 4,
 "nbformat_minor": 5
}
